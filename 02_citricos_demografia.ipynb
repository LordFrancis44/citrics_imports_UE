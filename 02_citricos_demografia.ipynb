{
 "cells": [
  {
   "cell_type": "markdown",
   "metadata": {},
   "source": [
    "# Preparación e incorporación de datos demográficos de los países de la UE\n",
    "En este notebook se extraen los datos demográficos de diferentes Excel y se ordenan de manera que puedan ser luego incorporados a los datasets pertinentes para, finalmente, ser incorporados."
   ]
  },
  {
   "cell_type": "code",
   "execution_count": 1,
   "metadata": {},
   "outputs": [],
   "source": [
    "import pandas as pd\n",
    "import glob\n",
    "import os"
   ]
  },
  {
   "cell_type": "markdown",
   "metadata": {},
   "source": [
    "Primero leemos los excel y los limpiamos para generar .csv's con los que trabajar. Lo hacemos por separado para hombres y mujeres."
   ]
  },
  {
   "cell_type": "code",
   "execution_count": null,
   "metadata": {},
   "outputs": [],
   "source": [
    "ruta_carpeta = './Demographic_data/'\n",
    "archivos_excel = glob.glob(os.path.join(ruta_carpeta, 'females*.xlsx'))\n",
    "\n",
    "# Limpiar cada archivo\n",
    "for archivo in archivos_excel:\n",
    "    \n",
    "    df = pd.read_excel(\n",
    "        archivo,\n",
    "        sheet_name='Sheet 1',\n",
    "        skiprows=8,\n",
    "        nrows=29\n",
    "    )\n",
    "    df = df[df.iloc[:, 0] != 'GEO (Labels)']  \n",
    "    df.columns = df.iloc[0] \n",
    "    df = df[1:]\n",
    "    df = df.loc[:, ~df.columns.isna()] \n",
    "    df.reset_index(drop=True, inplace=True) \n",
    "    df.columns = df.columns.astype(str).str.replace('.0', '', regex=False) \n",
    "    df = df.sort_values(by=df.columns[0]).reset_index(drop=True)\n",
    "\n",
    "    # Guardar como csv\n",
    "    nombre_salida = os.path.basename(archivo).replace('.xlsx', '.csv')\n",
    "    ruta_salida = os.path.join(ruta_carpeta, nombre_salida)\n",
    "    df.to_csv(ruta_salida, index=False)\n"
   ]
  },
  {
   "cell_type": "code",
   "execution_count": null,
   "metadata": {},
   "outputs": [],
   "source": [
    "ruta_carpeta = './Demographic_data/'\n",
    "archivos_excel = glob.glob(os.path.join(ruta_carpeta, 'males*.xlsx'))\n",
    "\n",
    "# Limpiar cada archivo\n",
    "for archivo in archivos_excel:\n",
    "    \n",
    "    df = pd.read_excel(\n",
    "        archivo,\n",
    "        sheet_name='Sheet 1',\n",
    "        skiprows=8,\n",
    "        nrows=29\n",
    "    )\n",
    "    df = df[df.iloc[:, 0] != 'GEO (Labels)']  \n",
    "    df.columns = df.iloc[0] \n",
    "    df = df[1:]\n",
    "    df = df.loc[:, ~df.columns.isna()] \n",
    "    df.reset_index(drop=True, inplace=True) \n",
    "    df.columns = df.columns.astype(str).str.replace('.0', '', regex=False) \n",
    "    df = df.sort_values(by=df.columns[0]).reset_index(drop=True)\n",
    "\n",
    "    # Guardar como csv\n",
    "    nombre_salida = os.path.basename(archivo).replace('.xlsx', '.csv')\n",
    "    ruta_salida = os.path.join(ruta_carpeta, nombre_salida)\n",
    "    df.to_csv(ruta_salida, index=False)"
   ]
  },
  {
   "cell_type": "markdown",
   "metadata": {},
   "source": [
    "Ahora agrupamos los intervalos de edad en diferentes grupos que hemos considerado arbitrariamente adecuados para el estudio. Generamos dos .csv's finales, uno para cada sexo, donde está compendida toda la información."
   ]
  },
  {
   "cell_type": "code",
   "execution_count": 32,
   "metadata": {},
   "outputs": [],
   "source": [
    "ruta_carpeta = './Demographic_data/'\n",
    "archivos_csv = glob.glob(os.path.join(ruta_carpeta, 'females_*.csv'))\n",
    "\n",
    "grupos_edad = {\n",
    "    'Fem. Niños (5-14 años)': ['5-9', '10-14'],\n",
    "    'Fem. Adolescentes (15-19 años)': ['15-19'],\n",
    "    'Fem. Adultos jóvenes (20-34 años)': ['20-24', '25-29', '30-34'],\n",
    "    'Fem. Adultos medios (35-54 años)': ['35-39', '40-44', '45-49', '50-54'],\n",
    "    'Fem. Adultos mayores (55-74 años)': ['55-59', '60-64', '65-69', '70-74'],\n",
    "    'Fem. Ancianos (75+ años)': ['75-79', '80-84', '85+']\n",
    "}\n",
    "\n",
    "datos_agrupados = pd.DataFrame()\n",
    "\n",
    "# Procesar cada grupo de edad\n",
    "for grupo, franjas in grupos_edad.items():\n",
    "    # Filtrar los archivos CSV correspondientes a las franjas de este grupo\n",
    "    archivos_franjas = [f for f in archivos_csv if any(f\"_{franja}_years.csv\" in f for franja in franjas)]\n",
    "    \n",
    "    # Leer y combinar los datos de las franjas en este grupo\n",
    "    df_grupo = pd.DataFrame()\n",
    "    for archivo in archivos_franjas:\n",
    "        df_franja = pd.read_csv(archivo)\n",
    "        df_franja.rename(columns={df_franja.columns[0]: 'Identificador'}, inplace=True)\n",
    "        df_grupo = pd.concat([df_grupo, df_franja])\n",
    "    \n",
    "    df_grupo = df_grupo.groupby('Identificador').sum().reset_index()\n",
    "    df_grupo['Grupo de Edad'] = grupo\n",
    "    \n",
    "    datos_agrupados = pd.concat([datos_agrupados, df_grupo])\n",
    "\n",
    "# Reorganizar las columnas para que el grupo de edad aparezca primero\n",
    "columnas = ['Grupo de Edad'] + [col for col in datos_agrupados.columns if col != 'Grupo de Edad']\n",
    "datos_agrupados = datos_agrupados[columnas]\n",
    "\n",
    "# Guardar el resultado en un archivo CSV\n",
    "archivo_salida = os.path.join(ruta_carpeta, 'poblacion_agrupada_females.csv')\n",
    "datos_agrupados.to_csv(archivo_salida, index=False)\n"
   ]
  },
  {
   "cell_type": "code",
   "execution_count": null,
   "metadata": {},
   "outputs": [],
   "source": [
    "ruta_carpeta = './Demographic_data/'\n",
    "archivos_csv = glob.glob(os.path.join(ruta_carpeta, 'males_*.csv'))\n",
    "\n",
    "grupos_edad = {\n",
    "    'Masc. Niños (5-14 años)': ['5-9', '10-14'],\n",
    "    'Masc. Adolescentes (15-19 años)': ['15-19'],\n",
    "    'Masc. Adultos jóvenes (20-34 años)': ['20-24', '25-29', '30-34'],\n",
    "    'Masc. Adultos medios (35-54 años)': ['35-39', '40-44', '45-49', '50-54'],\n",
    "    'Masc. Adultos mayores (55-74 años)': ['55-59', '60-64', '65-69', '70-74'],\n",
    "    'Masc. Ancianos (75+ años)': ['75-79', '80-84', '85+']\n",
    "}\n",
    "\n",
    "datos_agrupados = pd.DataFrame()\n",
    "\n",
    "# Procesar cada grupo de edad\n",
    "for grupo, franjas in grupos_edad.items():\n",
    "    # Filtrar los archivos CSV correspondientes a las franjas de este grupo\n",
    "    archivos_franjas = [f for f in archivos_csv if any(f\"_{franja}_years.csv\" in f for franja in franjas)]\n",
    "    \n",
    "    # Leer y combinar los datos de las franjas en este grupo\n",
    "    df_grupo = pd.DataFrame()\n",
    "    for archivo in archivos_franjas:\n",
    "        df_franja = pd.read_csv(archivo)\n",
    "        df_franja.rename(columns={df_franja.columns[0]: 'Identificador'}, inplace=True)\n",
    "        df_grupo = pd.concat([df_grupo, df_franja])\n",
    "    \n",
    "    df_grupo = df_grupo.groupby('Identificador').sum().reset_index()\n",
    "    df_grupo['Grupo de Edad'] = grupo\n",
    "    \n",
    "    datos_agrupados = pd.concat([datos_agrupados, df_grupo])\n",
    "\n",
    "# Reorganizar las columnas para que el grupo de edad aparezca primero\n",
    "columnas = ['Grupo de Edad'] + [col for col in datos_agrupados.columns if col != 'Grupo de Edad']\n",
    "datos_agrupados = datos_agrupados[columnas]\n",
    "\n",
    "# Guardar el resultado en un archivo CSV\n",
    "archivo_salida = os.path.join(ruta_carpeta, 'poblacion_agrupada_males.csv')\n",
    "datos_agrupados.to_csv(archivo_salida, index=False)\n"
   ]
  },
  {
   "cell_type": "markdown",
   "metadata": {},
   "source": [
    "Por último juntamos los datos demográficos con los datos de consumo y climáticos que ya tenemos en otra carpeta, todo ello clasificado por país."
   ]
  },
  {
   "cell_type": "code",
   "execution_count": 27,
   "metadata": {},
   "outputs": [],
   "source": [
    "countries = ['austria','belgium','bulgaria','croatia','cyprus','czechia','denmark','estonia','finland','france','germany','greece','hungary',\n",
    "             'ireland','italy','latvia','lithuania','luxembourg','malta','netherlands','poland','portugal','romania','slovenia','spain','sweden']"
   ]
  },
  {
   "cell_type": "code",
   "execution_count": 56,
   "metadata": {},
   "outputs": [],
   "source": [
    "demo_data_fem = pd.read_csv('./Demographic_data/poblacion_agrupada_females.csv')\n",
    "demo_data_masc = pd.read_csv('./Demographic_data/poblacion_agrupada_males.csv')\n",
    "\n",
    "for country in countries:\n",
    "    country_data = pd.read_csv(f'./Countries_citricos_clima/{country.capitalize()}.csv')\n",
    "    \n",
    "    # Datos demográficos femeninos\n",
    "    demo_data_country_fem = demo_data_fem.loc[demo_data_fem['Identificador']==country.capitalize(),:]\n",
    "    df_long_f = demo_data_country_fem.melt(id_vars=['Grupo de Edad', 'Identificador'], var_name='Año', value_name='Población')\n",
    "    df_pivot_f = df_long_f.pivot(index='Año', columns='Grupo de Edad', values='Población')\n",
    "    columnas_f = ['Fem. Niños (5-14 años)','Fem. Adolescentes (15-19 años)','Fem. Adultos jóvenes (20-34 años)','Fem. Adultos medios (35-54 años)',\n",
    "            'Fem. Adultos mayores (55-74 años)','Fem. Ancianos (75+ años)']\n",
    "    df_pivot_f = df_pivot_f[columnas_f]\n",
    "\n",
    "    # Datos demográficos masculinos\n",
    "    demo_data_country_masc = demo_data_masc.loc[demo_data_masc['Identificador']==country.capitalize(),:]\n",
    "    df_long_m = demo_data_country_masc.melt(id_vars=['Grupo de Edad', 'Identificador'], var_name='Año', value_name='Población')\n",
    "    df_pivot_m = df_long_m.pivot(index='Año', columns='Grupo de Edad', values='Población')\n",
    "    columnas_m = ['Masc. Niños (5-14 años)','Masc. Adolescentes (15-19 años)','Masc. Adultos jóvenes (20-34 años)','Masc. Adultos medios (35-54 años)',\n",
    "            'Masc. Adultos mayores (55-74 años)','Masc. Ancianos (75+ años)']\n",
    "    df_pivot_m = df_pivot_m[columnas_m]\n",
    "\n",
    "    # Fusión de los dataframes\n",
    "    country_data['agno'] = country_data['agno'].astype(str)\n",
    "    country_data.rename(columns={'agno': 'Año'}, inplace=True)\n",
    "\n",
    "    df_merged_1 = country_data.merge(df_pivot_f, left_on=\"Año\", right_on=\"Año\", how=\"left\")\n",
    "    df_merged_2 = df_merged_1.merge(df_pivot_m, left_on=\"Año\", right_on=\"Año\", how=\"left\")\n",
    "    \n",
    "    df_merged_2.drop(columns=['Week','mes'], inplace=True)\n",
    "    df_merged_2.rename(columns={'Start date':'Date','p_mes':'Precipitación','temp_mes':'Temperatura'}, inplace=True)\n",
    " \n",
    "    \n",
    "    # Guardar los ficheros resultantes\n",
    "    df_merged_2.to_csv(f'./Countries_citricos_completos/{country.capitalize()}.csv', index=False)\n"
   ]
  }
 ],
 "metadata": {
  "kernelspec": {
   "display_name": "Python 3",
   "language": "python",
   "name": "python3"
  },
  "language_info": {
   "codemirror_mode": {
    "name": "ipython",
    "version": 3
   },
   "file_extension": ".py",
   "mimetype": "text/x-python",
   "name": "python",
   "nbconvert_exporter": "python",
   "pygments_lexer": "ipython3",
   "version": "3.12.2"
  },
  "orig_nbformat": 4
 },
 "nbformat": 4,
 "nbformat_minor": 2
}
