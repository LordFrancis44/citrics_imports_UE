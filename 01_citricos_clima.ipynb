{
 "cells": [
  {
   "cell_type": "markdown",
   "metadata": {},
   "source": [
    "# Datos climáticos. Tratamiento e incorporación.\n",
    "\n",
    "En este notebook se limpian los datos climáticos de outliers y, posteriormente, se unen a los datos de importación."
   ]
  },
  {
   "cell_type": "code",
   "execution_count": 1,
   "metadata": {},
   "outputs": [],
   "source": [
    "import pandas as pd\n",
    "import glob\n",
    "from pathlib import Path"
   ]
  },
  {
   "cell_type": "code",
   "execution_count": 2,
   "metadata": {},
   "outputs": [],
   "source": [
    "countries = ['austria','belgium','bulgaria','croatia','cyprus','czechia','denmark','estonia','finland','france','germany','greece','hungary',\n",
    "             'ireland','italy','latvia','lithuania','luxembourg','malta','netherlands','poland','portugal','romania','slovenia','spain','sweden']"
   ]
  },
  {
   "cell_type": "code",
   "execution_count": 3,
   "metadata": {},
   "outputs": [],
   "source": [
    "dataframes_pre = [pd.read_csv(f'./Climate_data/pre_{country}.csv') for country in countries]\n",
    "dataframes_temp = [pd.read_csv(f'./Climate_data/temp_{country}.csv') for country in countries]"
   ]
  },
  {
   "cell_type": "code",
   "execution_count": 4,
   "metadata": {},
   "outputs": [
    {
     "name": "stdout",
     "output_type": "stream",
     "text": [
      "438.0 0\n",
      "439.5 3\n",
      "524.0 9\n",
      "403.4 11\n",
      "414.5 13\n",
      "1338.5 14\n",
      "421.9 21\n",
      "438.0 23\n",
      "440.0 24\n"
     ]
    }
   ],
   "source": [
    "# Detectamos los outliers de precipitación por encima de valores razonables\n",
    "for i in range(len(dataframes_pre)): \n",
    "    if dataframes_pre[i]['p_mes'].max() > 400:\n",
    "        print(dataframes_pre[i]['p_mes'].max(), i)\n",
    "\n",
    "for i in range(len(dataframes_pre)): \n",
    "    if dataframes_pre[i]['p_mes'].min() < 0:\n",
    "        print(dataframes_pre[i]['p_mes'].min(), i)"
   ]
  },
  {
   "cell_type": "code",
   "execution_count": 5,
   "metadata": {},
   "outputs": [],
   "source": [
    "# Dado que se incluyen regiones montañosas muy lluviosas damos por buenos todos los outliers salvo el de 1338.5 que lo eliminamos.\n",
    "for i in range(len(dataframes_pre)):\n",
    "   dataframes_pre[i] = dataframes_pre[i][dataframes_pre[i]['p_mes'] <= 600]"
   ]
  },
  {
   "cell_type": "code",
   "execution_count": 6,
   "metadata": {},
   "outputs": [
    {
     "name": "stdout",
     "output_type": "stream",
     "text": [
      "-9.96920996838687e+36 9\n",
      "-9.96920996838687e+36 14\n",
      "-9.96920996838687e+36 20\n",
      "-9.96920996838687e+36 21\n",
      "-9.96920996838687e+36 24\n",
      "-9.96920996838687e+36 25\n",
      "52.4 24\n"
     ]
    }
   ],
   "source": [
    "# Detectamos outliers de temperatura por debajo o por encima de valores razonables (-50, 50)\n",
    "for i in range(len(dataframes_temp)):\n",
    "    if dataframes_temp[i]['temp_mes'].min() < -50:\n",
    "        print(dataframes_temp[i]['temp_mes'].min(), i)\n",
    "    \n",
    "for i in range(len(dataframes_temp)): \n",
    "    if dataframes_temp[i]['temp_mes'].max() > 50:\n",
    "        print(dataframes_temp[i]['temp_mes'].max(), i)\n"
   ]
  },
  {
   "cell_type": "code",
   "execution_count": 7,
   "metadata": {},
   "outputs": [],
   "source": [
    "# El valor máximo es razonable así que se deja. Los valores claramente anómalos los eliminamos.\n",
    "for i in range(len(dataframes_temp)):\n",
    "   dataframes_temp[i] = dataframes_temp[i][dataframes_temp[i]['temp_mes'] >= -50]"
   ]
  },
  {
   "cell_type": "code",
   "execution_count": 8,
   "metadata": {},
   "outputs": [],
   "source": [
    "# Guardamos los dataframes limpios\n",
    "for i, df in enumerate(dataframes_pre):\n",
    "    country = countries[i]\n",
    "    df.to_csv(f'./Climate_data_limpios/pre_{country}.csv', index=False)\n",
    "\n",
    "for i, df in enumerate(dataframes_temp):    \n",
    "    country = countries[i]\n",
    "    df.to_csv(f'./Climate_data_limpios/temp_{country}.csv', index=False)"
   ]
  },
  {
   "cell_type": "markdown",
   "metadata": {},
   "source": [
    "Ahora incorporamos los datos climáticos al dataset con las importaciones de cítricos de cada país de la UE."
   ]
  },
  {
   "cell_type": "code",
   "execution_count": 9,
   "metadata": {},
   "outputs": [],
   "source": [
    "dataframes_pre = [pd.read_csv(f'./Climate_data_limpios/pre_{country}.csv') for country in countries]\n",
    "dataframes_temp = [pd.read_csv(f'./Climate_data_limpios/temp_{country}.csv') for country in countries]\n",
    "dataframes_country = [pd.read_csv(f'./Countries_citricos/{country.capitalize()}.csv') for country in countries]\n",
    "\n",
    "results =[]\n",
    "\n",
    "for i in range(len(dataframes_pre)):\n",
    "    df_pre = dataframes_pre[i]\n",
    "    df_temp = dataframes_temp[i]\n",
    "    df_country = dataframes_country[i]\n",
    "\n",
    "    df_pre = df_pre.groupby(['agno','mes'])['p_mes'].mean().round(3).reset_index()\n",
    "    df_temp = df_temp.groupby(['agno','mes'])['temp_mes'].mean().round(3).reset_index()\n",
    "\n",
    "    df_country = df_country.drop(columns=['End date','Marketing Year','Procedure','Preference'])\n",
    "    df_country['Start date'] = pd.to_datetime(df_country['Start date'])\n",
    "    df_country['mes'] = df_country['Start date'].dt.month\n",
    "    df_country['agno'] = df_country['Start date'].dt.year\n",
    "\n",
    "    df = df_country.merge(df_pre, on=['agno', 'mes'], how='left')\n",
    "    df = df.merge(df_temp, on=['agno', 'mes'], how='left')\n",
    "\n",
    "\n",
    "    results.append(df)"
   ]
  },
  {
   "cell_type": "markdown",
   "metadata": {},
   "source": [
    "El resultado final lo guardamos en un .csv por cada país. "
   ]
  },
  {
   "cell_type": "code",
   "execution_count": 10,
   "metadata": {},
   "outputs": [],
   "source": [
    "for i in range(len(results)):\n",
    "    country = results[i]['Member State'].unique()[0]\n",
    "    results[i].to_csv(f'./Countries_citricos_clima/{country}.csv', index= False)\n",
    "    "
   ]
  }
 ],
 "metadata": {
  "kernelspec": {
   "display_name": "Python 3",
   "language": "python",
   "name": "python3"
  },
  "language_info": {
   "codemirror_mode": {
    "name": "ipython",
    "version": 3
   },
   "file_extension": ".py",
   "mimetype": "text/x-python",
   "name": "python",
   "nbconvert_exporter": "python",
   "pygments_lexer": "ipython3",
   "version": "3.12.2"
  },
  "orig_nbformat": 4
 },
 "nbformat": 4,
 "nbformat_minor": 2
}
