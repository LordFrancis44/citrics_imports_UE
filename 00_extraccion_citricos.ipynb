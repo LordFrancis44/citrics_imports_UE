{
 "cells": [
  {
   "cell_type": "markdown",
   "metadata": {},
   "source": [
    "# Extracción de datos sobre importación de cítricos desde fuera de la UE"
   ]
  },
  {
   "cell_type": "markdown",
   "metadata": {},
   "source": [
    "`En este notebook se cargan los datos de importación de cítricos de los 27 estados miembro de la UE. Se crea un fichero .csv para cada uno de ellos y después se crea un dashboard con información relevante a importaciones de los mismos.`"
   ]
  },
  {
   "cell_type": "code",
   "execution_count": 1,
   "metadata": {},
   "outputs": [],
   "source": [
    "import pandas as pd\n",
    "import numpy as np\n",
    "import matplotlib.pyplot as plt\n",
    "from pathlib import Path"
   ]
  },
  {
   "cell_type": "code",
   "execution_count": 2,
   "metadata": {},
   "outputs": [
    {
     "data": {
      "text/html": [
       "<div>\n",
       "<style scoped>\n",
       "    .dataframe tbody tr th:only-of-type {\n",
       "        vertical-align: middle;\n",
       "    }\n",
       "\n",
       "    .dataframe tbody tr th {\n",
       "        vertical-align: top;\n",
       "    }\n",
       "\n",
       "    .dataframe thead th {\n",
       "        text-align: right;\n",
       "    }\n",
       "</style>\n",
       "<table border=\"1\" class=\"dataframe\">\n",
       "  <thead>\n",
       "    <tr style=\"text-align: right;\">\n",
       "      <th></th>\n",
       "      <th>Sector</th>\n",
       "      <th>Marketing Year</th>\n",
       "      <th>Week</th>\n",
       "      <th>Start date</th>\n",
       "      <th>End date</th>\n",
       "      <th>Member State Code</th>\n",
       "      <th>Member State</th>\n",
       "      <th>Partner Code</th>\n",
       "      <th>Partner</th>\n",
       "      <th>Product</th>\n",
       "      <th>Product 8 digits</th>\n",
       "      <th>Product 10 digits</th>\n",
       "      <th>Euro Value</th>\n",
       "      <th>Unit Value</th>\n",
       "      <th>kg</th>\n",
       "      <th>kg Equivalent</th>\n",
       "      <th>Coefficient</th>\n",
       "      <th>Procedure</th>\n",
       "      <th>Preference</th>\n",
       "    </tr>\n",
       "  </thead>\n",
       "  <tbody>\n",
       "    <tr>\n",
       "      <th>0</th>\n",
       "      <td>Citrus Fruit</td>\n",
       "      <td>2024/2025</td>\n",
       "      <td>6</td>\n",
       "      <td>2024-11-04</td>\n",
       "      <td>2024-11-10</td>\n",
       "      <td>AT</td>\n",
       "      <td>Austria</td>\n",
       "      <td>AL</td>\n",
       "      <td>Albania</td>\n",
       "      <td>Fresh or dried clementines</td>\n",
       "      <td>8052200</td>\n",
       "      <td>08052200 20</td>\n",
       "      <td>1891.20</td>\n",
       "      <td>1.182000</td>\n",
       "      <td>1600.0</td>\n",
       "      <td>1600.0</td>\n",
       "      <td>1</td>\n",
       "      <td>40</td>\n",
       "      <td>300</td>\n",
       "    </tr>\n",
       "    <tr>\n",
       "      <th>1</th>\n",
       "      <td>Citrus Fruit</td>\n",
       "      <td>2024/2025</td>\n",
       "      <td>6</td>\n",
       "      <td>2024-11-04</td>\n",
       "      <td>2024-11-10</td>\n",
       "      <td>AT</td>\n",
       "      <td>Austria</td>\n",
       "      <td>EG</td>\n",
       "      <td>Egypt</td>\n",
       "      <td>Fresh or dried lemons</td>\n",
       "      <td>8055010</td>\n",
       "      <td>08055010 10</td>\n",
       "      <td>249.99</td>\n",
       "      <td>2.499900</td>\n",
       "      <td>100.0</td>\n",
       "      <td>100.0</td>\n",
       "      <td>1</td>\n",
       "      <td>40</td>\n",
       "      <td>300</td>\n",
       "    </tr>\n",
       "    <tr>\n",
       "      <th>2</th>\n",
       "      <td>Citrus Fruit</td>\n",
       "      <td>2024/2025</td>\n",
       "      <td>6</td>\n",
       "      <td>2024-11-04</td>\n",
       "      <td>2024-11-10</td>\n",
       "      <td>AT</td>\n",
       "      <td>Austria</td>\n",
       "      <td>TR</td>\n",
       "      <td>Türkiye</td>\n",
       "      <td>Fresh or dried mandarines</td>\n",
       "      <td>8052110</td>\n",
       "      <td>08052110 10</td>\n",
       "      <td>30485.41</td>\n",
       "      <td>1.561753</td>\n",
       "      <td>19520.0</td>\n",
       "      <td>19520.0</td>\n",
       "      <td>1</td>\n",
       "      <td>42</td>\n",
       "      <td>300</td>\n",
       "    </tr>\n",
       "    <tr>\n",
       "      <th>3</th>\n",
       "      <td>Citrus Fruit</td>\n",
       "      <td>2024/2025</td>\n",
       "      <td>6</td>\n",
       "      <td>2024-11-04</td>\n",
       "      <td>2024-11-10</td>\n",
       "      <td>AT</td>\n",
       "      <td>Austria</td>\n",
       "      <td>TR</td>\n",
       "      <td>Türkiye</td>\n",
       "      <td>Fresh or dried mandarines</td>\n",
       "      <td>8052190</td>\n",
       "      <td>08052190 11</td>\n",
       "      <td>48993.63</td>\n",
       "      <td>1.430972</td>\n",
       "      <td>34238.0</td>\n",
       "      <td>34238.0</td>\n",
       "      <td>1</td>\n",
       "      <td>40</td>\n",
       "      <td>300</td>\n",
       "    </tr>\n",
       "    <tr>\n",
       "      <th>4</th>\n",
       "      <td>Citrus Fruit</td>\n",
       "      <td>2024/2025</td>\n",
       "      <td>6</td>\n",
       "      <td>2024-11-04</td>\n",
       "      <td>2024-11-10</td>\n",
       "      <td>AT</td>\n",
       "      <td>Austria</td>\n",
       "      <td>TR</td>\n",
       "      <td>Türkiye</td>\n",
       "      <td>Fresh or dried lemons</td>\n",
       "      <td>8055010</td>\n",
       "      <td>08055010 10</td>\n",
       "      <td>18203.40</td>\n",
       "      <td>0.777524</td>\n",
       "      <td>23412.0</td>\n",
       "      <td>23412.0</td>\n",
       "      <td>1</td>\n",
       "      <td>40</td>\n",
       "      <td>300</td>\n",
       "    </tr>\n",
       "  </tbody>\n",
       "</table>\n",
       "</div>"
      ],
      "text/plain": [
       "         Sector Marketing Year  Week Start date   End date Member State Code  \\\n",
       "0  Citrus Fruit      2024/2025     6 2024-11-04 2024-11-10                AT   \n",
       "1  Citrus Fruit      2024/2025     6 2024-11-04 2024-11-10                AT   \n",
       "2  Citrus Fruit      2024/2025     6 2024-11-04 2024-11-10                AT   \n",
       "3  Citrus Fruit      2024/2025     6 2024-11-04 2024-11-10                AT   \n",
       "4  Citrus Fruit      2024/2025     6 2024-11-04 2024-11-10                AT   \n",
       "\n",
       "  Member State Partner Code  Partner                     Product  \\\n",
       "0      Austria           AL  Albania  Fresh or dried clementines   \n",
       "1      Austria           EG    Egypt       Fresh or dried lemons   \n",
       "2      Austria           TR  Türkiye   Fresh or dried mandarines   \n",
       "3      Austria           TR  Türkiye   Fresh or dried mandarines   \n",
       "4      Austria           TR  Türkiye       Fresh or dried lemons   \n",
       "\n",
       "   Product 8 digits Product 10 digits  Euro Value  Unit Value       kg  \\\n",
       "0           8052200       08052200 20     1891.20    1.182000   1600.0   \n",
       "1           8055010       08055010 10      249.99    2.499900    100.0   \n",
       "2           8052110       08052110 10    30485.41    1.561753  19520.0   \n",
       "3           8052190       08052190 11    48993.63    1.430972  34238.0   \n",
       "4           8055010       08055010 10    18203.40    0.777524  23412.0   \n",
       "\n",
       "   kg Equivalent  Coefficient  Procedure  Preference  \n",
       "0         1600.0            1         40         300  \n",
       "1          100.0            1         40         300  \n",
       "2        19520.0            1         42         300  \n",
       "3        34238.0            1         40         300  \n",
       "4        23412.0            1         40         300  "
      ]
     },
     "execution_count": 2,
     "metadata": {},
     "output_type": "execute_result"
    }
   ],
   "source": [
    "df_citricos = pd.read_excel('./Datos_UE/Import_Citricos.xlsx')\n",
    "df_citricos.head(5)"
   ]
  },
  {
   "cell_type": "code",
   "execution_count": 3,
   "metadata": {},
   "outputs": [],
   "source": [
    "def separation_country(df, countries):\n",
    "    print('Creando fichero de cada país...')\n",
    "    columns = ['Marketing Year','Week','Start date','End date','Member State','Partner','Product','Euro Value','Unit Value','kg','Procedure','Preference']\n",
    "    product_values = ['Fresh oranges','Fresh or dried grapefruit','Fresh or dried mandarines','Fresh or dried lemons','Fresh or dried clementines','Fresh or dried oranges']\n",
    "    filtered_df = df[df['Product'].isin(product_values)]\n",
    "    for country in countries:\n",
    "        new_df = filtered_df.loc[filtered_df['Member State']==country, columns]\n",
    "        new_df.to_csv(f'./Countries_citricos/{country}.csv', index=False)\n",
    "        print(f'Fichero de {country} creado con ÉXITO')"
   ]
  },
  {
   "cell_type": "code",
   "execution_count": 4,
   "metadata": {},
   "outputs": [
    {
     "data": {
      "text/plain": [
       "Product\n",
       "Orange juice                              42067\n",
       "Fresh oranges                             34242\n",
       "Fresh or dried grapefruit                 22981\n",
       "Fresh or dried mandarines                 20699\n",
       "Fresh or dried lemons                     19250\n",
       "Fresh or dried limes                      13423\n",
       "Fruit jams, puree and jellies             11435\n",
       "Other fresh or dried citrus                6811\n",
       "Fresh or dried clementines                 5098\n",
       "Fresh or dried oranges                     4462\n",
       "Mixed citrus fruit and pineapple juice     2415\n",
       "Name: count, dtype: int64"
      ]
     },
     "execution_count": 4,
     "metadata": {},
     "output_type": "execute_result"
    }
   ],
   "source": [
    "df_citricos['Product'].value_counts()"
   ]
  },
  {
   "cell_type": "code",
   "execution_count": 5,
   "metadata": {},
   "outputs": [
    {
     "name": "stdout",
     "output_type": "stream",
     "text": [
      "Creando fichero de cada país...\n",
      "Fichero de Austria creado con ÉXITO\n",
      "Fichero de Belgium creado con ÉXITO\n",
      "Fichero de Bulgaria creado con ÉXITO\n",
      "Fichero de Germany creado con ÉXITO\n",
      "Fichero de Denmark creado con ÉXITO\n",
      "Fichero de Greece creado con ÉXITO\n",
      "Fichero de Spain creado con ÉXITO\n",
      "Fichero de Finland creado con ÉXITO\n",
      "Fichero de France creado con ÉXITO\n",
      "Fichero de Croatia creado con ÉXITO\n",
      "Fichero de Hungary creado con ÉXITO\n",
      "Fichero de Ireland creado con ÉXITO\n",
      "Fichero de Lithuania creado con ÉXITO\n",
      "Fichero de Latvia creado con ÉXITO\n",
      "Fichero de Malta creado con ÉXITO\n",
      "Fichero de Netherlands creado con ÉXITO\n",
      "Fichero de Poland creado con ÉXITO\n",
      "Fichero de Portugal creado con ÉXITO\n",
      "Fichero de Romania creado con ÉXITO\n",
      "Fichero de Sweden creado con ÉXITO\n",
      "Fichero de Slovenia creado con ÉXITO\n",
      "Fichero de Slovakia creado con ÉXITO\n",
      "Fichero de Cyprus creado con ÉXITO\n",
      "Fichero de Czechia creado con ÉXITO\n",
      "Fichero de Estonia creado con ÉXITO\n",
      "Fichero de Italy creado con ÉXITO\n",
      "Fichero de Luxembourg creado con ÉXITO\n"
     ]
    }
   ],
   "source": [
    "countries = df_citricos['Member State'].unique()\n",
    "separation_country(df_citricos,countries)"
   ]
  },
  {
   "cell_type": "code",
   "execution_count": 6,
   "metadata": {},
   "outputs": [],
   "source": [
    "def top_partners(df):\n",
    "\n",
    "    df_partner = df.groupby(['Start date','Partner'])['Euro Value'].sum().reset_index()\n",
    "    total_exports = df_partner.groupby('Partner')['Euro Value'].sum()\n",
    "\n",
    "    top_5_partners = total_exports.nlargest(5).index\n",
    "    df_partner_filtered = df_partner[df_partner['Partner'].isin(top_5_partners)]\n",
    "\n",
    "    pivoted = df_partner_filtered.pivot(index='Start date', columns='Partner', values='Euro Value').fillna(0)\n",
    "    pivoted = pivoted[top_5_partners]\n",
    "    \n",
    "    return pivoted"
   ]
  },
  {
   "cell_type": "code",
   "execution_count": 7,
   "metadata": {},
   "outputs": [],
   "source": [
    "def pie_partners(df):\n",
    "    df = df[df['Start date']>'01-11-2023'] # Tomamos como último ciclo desde noviembre de 2023\n",
    "    df_grouped = df.groupby('Partner')['Euro Value'].sum().reset_index()\n",
    "\n",
    "    top_5_partners = df_grouped.nlargest(5, 'Euro Value')\n",
    "    data = top_5_partners['Euro Value']\n",
    "    labels = top_5_partners['Partner']\n",
    "\n",
    "    return data, labels"
   ]
  },
  {
   "cell_type": "code",
   "execution_count": 8,
   "metadata": {},
   "outputs": [],
   "source": [
    "def products(df):\n",
    "    df_product = df.groupby(['Start date','Product'])['kg'].sum().reset_index()\n",
    "    total_exports = df_product.groupby('Product')['kg'].sum()\n",
    "\n",
    "    top_products = total_exports.nlargest(5).index\n",
    "    df_product_filtered = df_product[df_product['Product'].isin(top_products)]\n",
    "\n",
    "    pivoted = df_product_filtered.pivot(index='Start date', columns='Product', values='kg').fillna(0)\n",
    "    pivoted = pivoted[top_products]\n",
    "    \n",
    "    return pivoted"
   ]
  },
  {
   "cell_type": "code",
   "execution_count": 9,
   "metadata": {},
   "outputs": [],
   "source": [
    "def pie_products(df):\n",
    "    df = df[df['Start date']>'01-11-2023']\n",
    "    df_grouped = df.groupby('Product')['kg'].sum().reset_index()\n",
    "\n",
    "    top_products = df_grouped.nlargest(5, 'kg')\n",
    "    data = top_products['kg']\n",
    "    labels = top_products['Product']\n",
    "\n",
    "    return data, labels"
   ]
  },
  {
   "cell_type": "code",
   "execution_count": 10,
   "metadata": {},
   "outputs": [],
   "source": [
    "def dashboard(df,name):\n",
    "\n",
    "    fig = plt.figure(figsize=(22,16))\n",
    "    gs = fig.add_gridspec(2, 3)\n",
    "\n",
    "  \n",
    "    table = top_partners(df)\n",
    "    ax1 = fig.add_subplot(gs[0, :2])\n",
    "    for country in table.columns:\n",
    "        ax1.plot(table.index, table[country], label=country)\n",
    "    ax1.set_title(\"Principales partners\", fontsize=16)\n",
    "    ax1.set_ylabel('Euros (€)')\n",
    "    ax1.legend(fontsize=12)\n",
    "    ax1.grid()\n",
    "    \n",
    "    ax2 = fig.add_subplot(gs[0, 2])\n",
    "    data, labels = pie_partners(df) \n",
    "    ax2.pie(data, labels=labels, autopct='%1.1f%%', textprops={'fontsize': 10})\n",
    "    ax2.set_title(\"Principales partners 01/11/2023 - 04/11/2024\", fontsize=16)\n",
    "\n",
    "    \n",
    "    ax3 = fig.add_subplot(gs[1, :2])\n",
    "    table_prodcuts = products(df)\n",
    "    for product in table_prodcuts.columns:\n",
    "        ax3.plot(table_prodcuts.index, table_prodcuts[product], label=product)\n",
    "    ax3.set_title(\"Principales productos importados\", fontsize=16)\n",
    "    ax3.set_ylabel('kg')\n",
    "    ax3.legend(fontsize=12)\n",
    "    ax3.grid()\n",
    "  \n",
    "    ax4 = fig.add_subplot(gs[1, 2])\n",
    "    data_p, labels_p = pie_products(df)\n",
    "    ax4.pie(data_p, labels=labels_p, autopct='%1.1f%%', textprops={'fontsize': 12})\n",
    "    ax4.set_title(\"Top 5 productos importados 01/11/2023 - 04/11/2024\", fontsize=16)\n",
    "\n",
    "    plt.subplots_adjust(left=0.1, right=0.9, bottom=0.1, top=0.85, wspace=0.4, hspace=0.2)\n",
    "    plt.suptitle(f'Dashboard of {name}', fontsize=20, y=0.9, ha='center')\n",
    "    plt.savefig(f'Dashboards_citricos/Dashboard_{name}.png', dpi=300, bbox_inches='tight')\n",
    "    #plt.show()\n",
    "    plt.close(fig)\n"
   ]
  },
  {
   "cell_type": "code",
   "execution_count": 11,
   "metadata": {},
   "outputs": [],
   "source": [
    "def main():\n",
    "    \n",
    "    folder_path = Path(\"Countries_citricos\")\n",
    "\n",
    "    for file_path in folder_path.glob(\"*.csv\"):\n",
    "        df = pd.read_csv(file_path)\n",
    "        df['Start date'] = pd.to_datetime(df['Start date'])\n",
    "        dashboard(df,file_path.stem)"
   ]
  },
  {
   "cell_type": "code",
   "execution_count": 12,
   "metadata": {},
   "outputs": [
    {
     "data": {
      "text/plain": [
       "\"\\ndf_poland = pd.read_csv('./Countries/Poland.csv')\\ndf_poland['Start date'] = pd.to_datetime(df_poland['Start date'])\\ndashboard(df_poland, 'Poland')\\n\""
      ]
     },
     "execution_count": 12,
     "metadata": {},
     "output_type": "execute_result"
    }
   ],
   "source": [
    "'''\n",
    "df_poland = pd.read_csv('./Countries/Poland.csv')\n",
    "df_poland['Start date'] = pd.to_datetime(df_poland['Start date'])\n",
    "dashboard(df_poland, 'Poland')\n",
    "'''"
   ]
  },
  {
   "cell_type": "code",
   "execution_count": 13,
   "metadata": {},
   "outputs": [],
   "source": [
    "main()"
   ]
  }
 ],
 "metadata": {
  "kernelspec": {
   "display_name": "Python 3",
   "language": "python",
   "name": "python3"
  },
  "language_info": {
   "codemirror_mode": {
    "name": "ipython",
    "version": 3
   },
   "file_extension": ".py",
   "mimetype": "text/x-python",
   "name": "python",
   "nbconvert_exporter": "python",
   "pygments_lexer": "ipython3",
   "version": "3.12.2"
  },
  "orig_nbformat": 4
 },
 "nbformat": 4,
 "nbformat_minor": 2
}
