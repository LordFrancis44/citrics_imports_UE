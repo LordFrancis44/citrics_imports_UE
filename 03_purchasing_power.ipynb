{
 "cells": [
  {
   "cell_type": "markdown",
   "metadata": {},
   "source": [
    "# Procesado e incorporación de datos de PIB per capita de los países de la UE\n",
    "En este notebook se unen los datos de PIB per capita con el dataset global. "
   ]
  },
  {
   "cell_type": "code",
   "execution_count": 2,
   "metadata": {},
   "outputs": [],
   "source": [
    "import pandas as pd\n",
    "import glob\n",
    "import os"
   ]
  },
  {
   "cell_type": "markdown",
   "metadata": {},
   "source": [
    "Primero, extraemos la información necesaria del excel y la guardamos en un csv."
   ]
  },
  {
   "cell_type": "code",
   "execution_count": 3,
   "metadata": {},
   "outputs": [],
   "source": [
    "ruta_carpeta = './Purchasing_power_data/'\n",
    "df = pd.read_excel('./Purchasing_power_data/pib_capita.xlsx', sheet_name='Sheet 1', skiprows=7, nrows=28)\n",
    "\n",
    "df.columns = df.iloc[0] \n",
    "df = df[1:]\n",
    "df = df.loc[:, ~df.columns.isna()]\n",
    "columnas_ordenadas = [df.columns[0]] + sorted(df.columns[1:], key=int)\n",
    "df = df[columnas_ordenadas]\n",
    "df.rename(columns={'TIME':'Country'}, inplace=True)\n",
    "df.reset_index(drop=True, inplace=True) \n",
    "\n",
    "nombre_salida = 'pib_capita.csv'\n",
    "ruta_salida = os.path.join(ruta_carpeta, nombre_salida)\n",
    "df.to_csv(ruta_salida, index=False)"
   ]
  },
  {
   "cell_type": "markdown",
   "metadata": {},
   "source": [
    "Ahora, juntamos la información de ese csv con su correspondiente csv de país. "
   ]
  },
  {
   "cell_type": "code",
   "execution_count": 5,
   "metadata": {},
   "outputs": [],
   "source": [
    "countries = ['austria','belgium','bulgaria','croatia','cyprus','czechia','denmark','estonia','finland','france','germany','greece','hungary',\n",
    "             'ireland','italy','latvia','lithuania','luxembourg','malta','netherlands','poland','portugal','romania','slovenia','spain','sweden']"
   ]
  },
  {
   "cell_type": "code",
   "execution_count": 8,
   "metadata": {},
   "outputs": [],
   "source": [
    "pib_data = pd.read_csv('./Purchasing_power_data/pib_capita.csv')\n",
    "\n",
    "pib_long = pib_data.melt(id_vars=['Country'], var_name='Año', value_name='PIB')\n",
    "pib_long['Año'] = pib_long['Año'].astype(str)  \n",
    "\n",
    "for country in countries:\n",
    "    country_data = pd.read_csv(f'./Countries_citricos_completos/{country.capitalize()}.csv')\n",
    "    country_data['Año'] = country_data['Año'].astype(str)\n",
    "\n",
    "    pib_country_data = pib_long[pib_long['Country'] == country.capitalize()]\n",
    "\n",
    "    df_merged = country_data.merge(pib_country_data, on='Año', how='left')\n",
    "    df_merged.drop(columns='Country', inplace=True)\n",
    "    df_merged.rename(columns={'PIB':'PIB per capita'}, inplace=True)\n",
    "\n",
    "    df_merged.to_csv(f'./Countries_citricos_completos/{country.capitalize()}.csv', index=False)\n"
   ]
  }
 ],
 "metadata": {
  "kernelspec": {
   "display_name": "Python 3",
   "language": "python",
   "name": "python3"
  },
  "language_info": {
   "codemirror_mode": {
    "name": "ipython",
    "version": 3
   },
   "file_extension": ".py",
   "mimetype": "text/x-python",
   "name": "python",
   "nbconvert_exporter": "python",
   "pygments_lexer": "ipython3",
   "version": "3.12.2"
  },
  "orig_nbformat": 4
 },
 "nbformat": 4,
 "nbformat_minor": 2
}
